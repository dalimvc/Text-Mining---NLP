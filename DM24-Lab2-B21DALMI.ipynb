{
 "cells": [
  {
   "cell_type": "markdown",
   "metadata": {},
   "source": [
    "<style>\n",
    "h1 {\n",
    "  color: #0078d4\n",
    "}\n",
    "</style>\n",
    "<h1>Text Mining & NLP\n",
    "</h1>"
   ]
  },
  {
   "cell_type": "markdown",
   "metadata": {},
   "source": [
    "<p>\n",
    "    Sentiment analysis is a fundamental application of text mining and natural language processing (NLP) that involves determining whether a given piece of text conveys a positive, negative, or neutral sentiment. Various techniques can be applied to perform sentiment analysis. This assignment, will have a focus on approaches using TF-IDF, Bag of Words (BOW), and word embeddings.\n",
    "</p>\n",
    "<p>\n",
    "    I will be using the <strong>sentiment140 (training)</strong> dataset. It contains 1,600,000 tweets extracted using the Twitter API. The tweets have been annotated (<strong>0 = negative, 4 = positive</strong>), and they can be used to detect sentiment. Sentiment140 contains the following 6 fields:\n",
    "</p>\n",
    "<ol>\n",
    "    <li><strong>target:</strong> the polarity of the tweet (0 = negative, 2 = neutral, 4 = positive)</li>\n",
    "    <li><strong>ids:</strong> The id of the tweet (2087)</li>\n",
    "    <li><strong>date:</strong> the date of the tweet (Sat May 16 23:58:44 UTC 2009)</li>\n",
    "    <li><strong>flag:</strong> The query (lyx). If there is no query, then this value is NO_QUERY.</li>\n",
    "    <li><strong>user:</strong> the user that tweeted (robotickilldozr)</li>\n",
    "    <li><strong>text:</strong> the text of the tweet (Lyx is cool)</li>\n",
    "</ol>"
   ]
  },
  {
   "cell_type": "markdown",
   "metadata": {},
   "source": [
    "Questions:\n",
    "1. Explore and prepare the data (Tokenization, Stemming, Stopwords, visualization, etc.)\n",
    "2. Build a BOW and train a KNN, Decision Tree, and SVM model\n",
    "3. Evaluate the above models (confusion matrix, accuracy, classification report, etc.)\n",
    "4. Select one of the word embedding methods (Word2Vec, GloVe, or FastText), build a\n",
    "CNN model, and compare its results with those obtained in Question 2.\n",
    "5. Build an API or a user interface to use the trained CNN model in production (this\n",
    "question is optional)"
   ]
  },
  {
   "attachments": {
    "image.png": {
     "image/png": "[encoded data removed]"
    }
   },
   "cell_type": "markdown",
   "metadata": {},
   "source": [
    "![image.png](attachment:image.png)"
   ]
  },
  {
   "cell_type": "markdown",
   "metadata": {},
   "source": [
    "<style>\n",
    "    h3 {\n",
    "        color: #0078d4\n",
    "    }\n",
    "</style>\n",
    "<h3>1. Explore and prepare the data (Tokenization, Stemming, Stopwords, visualization, etc.)</h3>"
   ]
  },
  {
   "cell_type": "markdown",
   "metadata": {},
   "source": [
    "As I noticed that test data is very small in comparison to the train data, I decided to merge those 2 files. At some later stage, I will split them in the rate that is better."
   ]
  },
  {
   "cell_type": "code",
   "execution_count": 113,
   "metadata": {},
   "outputs": [],
   "source": [
    "import pandas as pd\n",
    "\n",
    "#adding column names that will be saved as column names for the df\n",
    "column_names=['Target', 'Ids', 'Date', 'Flag', 'User', 'Text']\n",
    "\n",
    "#leading files\n",
    "train_data = pd.read_csv('training.1600000.processed.noemoticon.csv', encoding='latin-1', names=column_names, header=None)\n",
    "df = train_data.sample(n=50000, random_state=42)\n"
   ]
  },
  {
   "cell_type": "code",
   "execution_count": 114,
   "metadata": {},
   "outputs": [
    {
     "data": {
      "text/html": [
       "<div>\n",
       "<style scoped>\n",
       "    .dataframe tbody tr th:only-of-type {\n",
       "        vertical-align: middle;\n",
       "    }\n",
       "\n",
       "    .dataframe tbody tr th {\n",
       "        vertical-align: top;\n",
       "    }\n",
       "\n",
       "    .dataframe thead th {\n",
       "        text-align: right;\n",
       "    }\n",
       "</style>\n",
       "<table border=\"1\" class=\"dataframe\">\n",
       "  <thead>\n",
       "    <tr style=\"text-align: right;\">\n",
       "      <th></th>\n",
       "      <th>Target</th>\n",
       "      <th>Ids</th>\n",
       "      <th>Date</th>\n",
       "      <th>Flag</th>\n",
       "      <th>User</th>\n",
       "      <th>Text</th>\n",
       "    </tr>\n",
       "  </thead>\n",
       "  <tbody>\n",
       "    <tr>\n",
       "      <th>541200</th>\n",
       "      <td>0</td>\n",
       "      <td>2200003196</td>\n",
       "      <td>Tue Jun 16 18:18:12 PDT 2009</td>\n",
       "      <td>NO_QUERY</td>\n",
       "      <td>LaLaLindsey0609</td>\n",
       "      <td>@chrishasboobs AHHH I HOPE YOUR OK!!!</td>\n",
       "    </tr>\n",
       "    <tr>\n",
       "      <th>750</th>\n",
       "      <td>0</td>\n",
       "      <td>1467998485</td>\n",
       "      <td>Mon Apr 06 23:11:14 PDT 2009</td>\n",
       "      <td>NO_QUERY</td>\n",
       "      <td>sexygrneyes</td>\n",
       "      <td>@misstoriblack cool , i have no tweet apps  fo...</td>\n",
       "    </tr>\n",
       "    <tr>\n",
       "      <th>766711</th>\n",
       "      <td>0</td>\n",
       "      <td>2300048954</td>\n",
       "      <td>Tue Jun 23 13:40:11 PDT 2009</td>\n",
       "      <td>NO_QUERY</td>\n",
       "      <td>sammydearr</td>\n",
       "      <td>@TiannaChaos i know  just family drama. its la...</td>\n",
       "    </tr>\n",
       "    <tr>\n",
       "      <th>285055</th>\n",
       "      <td>0</td>\n",
       "      <td>1993474027</td>\n",
       "      <td>Mon Jun 01 10:26:07 PDT 2009</td>\n",
       "      <td>NO_QUERY</td>\n",
       "      <td>Lamb_Leanne</td>\n",
       "      <td>School email won't open  and I have geography ...</td>\n",
       "    </tr>\n",
       "    <tr>\n",
       "      <th>705995</th>\n",
       "      <td>0</td>\n",
       "      <td>2256550904</td>\n",
       "      <td>Sat Jun 20 12:56:51 PDT 2009</td>\n",
       "      <td>NO_QUERY</td>\n",
       "      <td>yogicerdito</td>\n",
       "      <td>upper airways problem</td>\n",
       "    </tr>\n",
       "  </tbody>\n",
       "</table>\n",
       "</div>"
      ],
      "text/plain": [
       "        Target         Ids                          Date      Flag  \\\n",
       "541200       0  2200003196  Tue Jun 16 18:18:12 PDT 2009  NO_QUERY   \n",
       "750          0  1467998485  Mon Apr 06 23:11:14 PDT 2009  NO_QUERY   \n",
       "766711       0  2300048954  Tue Jun 23 13:40:11 PDT 2009  NO_QUERY   \n",
       "285055       0  1993474027  Mon Jun 01 10:26:07 PDT 2009  NO_QUERY   \n",
       "705995       0  2256550904  Sat Jun 20 12:56:51 PDT 2009  NO_QUERY   \n",
       "\n",
       "                   User                                               Text  \n",
       "541200  LaLaLindsey0609             @chrishasboobs AHHH I HOPE YOUR OK!!!   \n",
       "750         sexygrneyes  @misstoriblack cool , i have no tweet apps  fo...  \n",
       "766711       sammydearr  @TiannaChaos i know  just family drama. its la...  \n",
       "285055      Lamb_Leanne  School email won't open  and I have geography ...  \n",
       "705995      yogicerdito                             upper airways problem   "
      ]
     },
     "execution_count": 114,
     "metadata": {},
     "output_type": "execute_result"
    }
   ],
   "source": [
    "df.head()"
   ]
  },
  {
   "cell_type": "code",
   "execution_count": 115,
   "metadata": {},
   "outputs": [
    {
     "name": "stdout",
     "output_type": "stream",
     "text": [
      "(50000, 6)\n"
     ]
    }
   ],
   "source": [
    "print(df.shape)"
   ]
  },
  {
   "cell_type": "code",
   "execution_count": 116,
   "metadata": {},
   "outputs": [
    {
     "name": "stdout",
     "output_type": "stream",
     "text": [
      "<class 'pandas.core.frame.DataFrame'>\n",
      "Index: 50000 entries, 541200 to 172400\n",
      "Data columns (total 6 columns):\n",
      " #   Column  Non-Null Count  Dtype \n",
      "---  ------  --------------  ----- \n",
      " 0   Target  50000 non-null  int64 \n",
      " 1   Ids     50000 non-null  int64 \n",
      " 2   Date    50000 non-null  object\n",
      " 3   Flag    50000 non-null  object\n",
      " 4   User    50000 non-null  object\n",
      " 5   Text    50000 non-null  object\n",
      "dtypes: int64(2), object(4)\n",
      "memory usage: 2.7+ MB\n"
     ]
    }
   ],
   "source": [
    "df.info()"
   ]
  },
  {
   "cell_type": "code",
   "execution_count": 117,
   "metadata": {},
   "outputs": [],
   "source": [
    "#those colors will be used to display plots\n",
    "colors = [\"#19647E\", \"#FF6F61\", '#B7C3F3', '#DD7596', '#8EB897', '#F9CDAD', '#F8AFA8', '#A8D0E6', '#8A5575', '#D8B56B']"
   ]
  },
  {
   "cell_type": "markdown",
   "metadata": {},
   "source": [
    "<style>\n",
    "    h4 {\n",
    "        color: #d4007c\n",
    "    }\n",
    "</style>\n",
    "<h4>Data preparation</h4>"
   ]
  },
  {
   "cell_type": "code",
   "execution_count": 118,
   "metadata": {},
   "outputs": [],
   "source": [
    "#decapitating all the letters in text column\n",
    "df['Text'] = df['Text'].str.lower()"
   ]
  },
  {
   "cell_type": "code",
   "execution_count": 119,
   "metadata": {},
   "outputs": [],
   "source": [
    "#removing ' so that words like don't become dont .....\n",
    "df['Text'] = df['Text'].str.replace(\"[']\", '', regex=True)\n",
    "#replacing all the characters that are not numbers or alphabetic letters or characters  / -  wih empty space\n",
    "df['Text'] = df['Text'].str.replace(\"[^a-zA-Z0-9/-]\", ' ', regex=True)\n",
    "#removing 2 or more empty spaces\n",
    "df['Text'] = df['Text'].str.replace(r'\\s+', ' ', regex=True)"
   ]
  },
  {
   "cell_type": "markdown",
   "metadata": {},
   "source": [
    "<style>\n",
    "    h4 {\n",
    "        color: #d4007c\n",
    "    }\n",
    "</style>\n",
    "<h4>Tokenization</h4>"
   ]
  },
  {
   "cell_type": "code",
   "execution_count": 120,
   "metadata": {},
   "outputs": [],
   "source": [
    "#%pip install nltk\n",
    "from nltk.tokenize import word_tokenize\n",
    "# nltk.download('punkt')\n",
    "# nltk.download('punkt_tab')"
   ]
  },
  {
   "cell_type": "code",
   "execution_count": 121,
   "metadata": {},
   "outputs": [],
   "source": [
    "#adding new column tha will contain an array of tokens (words) from the column text\n",
    "df['tokenized'] = df['Text'].apply(word_tokenize)"
   ]
  },
  {
   "cell_type": "code",
   "execution_count": 122,
   "metadata": {},
   "outputs": [],
   "source": [
    "#removing stopwords like is, and, or....\n",
    "from nltk.corpus import stopwords\n",
    "stop_words = set(stopwords.words('english'))\n",
    "df['tokenized'] = df['tokenized'].apply(lambda x: [word for word in x if word not in stop_words])"
   ]
  },
  {
   "cell_type": "markdown",
   "metadata": {},
   "source": [
    "<style>\n",
    "    h4 {\n",
    "        color: #d4007c\n",
    "    }\n",
    "</style>\n",
    "<h4>Stemming</h4>"
   ]
  },
  {
   "cell_type": "markdown",
   "metadata": {},
   "source": [
    "Stemming aims to bring words to their original base, by removing suffixes or prefixes.<br>\n",
    "For example, running will result to run"
   ]
  },
  {
   "cell_type": "code",
   "execution_count": 123,
   "metadata": {},
   "outputs": [],
   "source": [
    "from nltk.stem import PorterStemmer\n",
    "\n",
    "#using PorterStemmer to stem words\n",
    "stemmer = PorterStemmer()\n",
    "df['tokenized'] = df['tokenized'].apply(lambda x: [stemmer.stem(word) for word in x])"
   ]
  },
  {
   "cell_type": "code",
   "execution_count": 124,
   "metadata": {},
   "outputs": [
    {
     "data": {
      "text/html": [
       "<div>\n",
       "<style scoped>\n",
       "    .dataframe tbody tr th:only-of-type {\n",
       "        vertical-align: middle;\n",
       "    }\n",
       "\n",
       "    .dataframe tbody tr th {\n",
       "        vertical-align: top;\n",
       "    }\n",
       "\n",
       "    .dataframe thead th {\n",
       "        text-align: right;\n",
       "    }\n",
       "</style>\n",
       "<table border=\"1\" class=\"dataframe\">\n",
       "  <thead>\n",
       "    <tr style=\"text-align: right;\">\n",
       "      <th></th>\n",
       "      <th>Target</th>\n",
       "      <th>Ids</th>\n",
       "      <th>Date</th>\n",
       "      <th>Flag</th>\n",
       "      <th>User</th>\n",
       "      <th>Text</th>\n",
       "      <th>tokenized</th>\n",
       "    </tr>\n",
       "  </thead>\n",
       "  <tbody>\n",
       "    <tr>\n",
       "      <th>541200</th>\n",
       "      <td>0</td>\n",
       "      <td>2200003196</td>\n",
       "      <td>Tue Jun 16 18:18:12 PDT 2009</td>\n",
       "      <td>NO_QUERY</td>\n",
       "      <td>LaLaLindsey0609</td>\n",
       "      <td>chrishasboobs ahhh i hope your ok</td>\n",
       "      <td>[chrishasboob, ahhh, hope, ok]</td>\n",
       "    </tr>\n",
       "    <tr>\n",
       "      <th>750</th>\n",
       "      <td>0</td>\n",
       "      <td>1467998485</td>\n",
       "      <td>Mon Apr 06 23:11:14 PDT 2009</td>\n",
       "      <td>NO_QUERY</td>\n",
       "      <td>sexygrneyes</td>\n",
       "      <td>misstoriblack cool i have no tweet apps for m...</td>\n",
       "      <td>[misstoriblack, cool, tweet, app, razr, 2]</td>\n",
       "    </tr>\n",
       "    <tr>\n",
       "      <th>766711</th>\n",
       "      <td>0</td>\n",
       "      <td>2300048954</td>\n",
       "      <td>Tue Jun 23 13:40:11 PDT 2009</td>\n",
       "      <td>NO_QUERY</td>\n",
       "      <td>sammydearr</td>\n",
       "      <td>tiannachaos i know just family drama its lame...</td>\n",
       "      <td>[tiannachao, know, famili, drama, lame, hey, n...</td>\n",
       "    </tr>\n",
       "    <tr>\n",
       "      <th>285055</th>\n",
       "      <td>0</td>\n",
       "      <td>1993474027</td>\n",
       "      <td>Mon Jun 01 10:26:07 PDT 2009</td>\n",
       "      <td>NO_QUERY</td>\n",
       "      <td>Lamb_Leanne</td>\n",
       "      <td>school email wont open and i have geography st...</td>\n",
       "      <td>[school, email, wont, open, geographi, stuff, ...</td>\n",
       "    </tr>\n",
       "    <tr>\n",
       "      <th>705995</th>\n",
       "      <td>0</td>\n",
       "      <td>2256550904</td>\n",
       "      <td>Sat Jun 20 12:56:51 PDT 2009</td>\n",
       "      <td>NO_QUERY</td>\n",
       "      <td>yogicerdito</td>\n",
       "      <td>upper airways problem</td>\n",
       "      <td>[upper, airway, problem]</td>\n",
       "    </tr>\n",
       "    <tr>\n",
       "      <th>379611</th>\n",
       "      <td>0</td>\n",
       "      <td>2052380495</td>\n",
       "      <td>Sat Jun 06 00:32:16 PDT 2009</td>\n",
       "      <td>NO_QUERY</td>\n",
       "      <td>Yengching</td>\n",
       "      <td>going to miss pastors sermon on faith</td>\n",
       "      <td>[go, miss, pastor, sermon, faith]</td>\n",
       "    </tr>\n",
       "    <tr>\n",
       "      <th>1189018</th>\n",
       "      <td>4</td>\n",
       "      <td>1983449090</td>\n",
       "      <td>Sun May 31 13:10:36 PDT 2009</td>\n",
       "      <td>NO_QUERY</td>\n",
       "      <td>jessig06</td>\n",
       "      <td>on lunch dj should come eat with me</td>\n",
       "      <td>[lunch, dj, come, eat]</td>\n",
       "    </tr>\n",
       "    <tr>\n",
       "      <th>667030</th>\n",
       "      <td>0</td>\n",
       "      <td>2245479748</td>\n",
       "      <td>Fri Jun 19 16:11:29 PDT 2009</td>\n",
       "      <td>NO_QUERY</td>\n",
       "      <td>felicityfuller</td>\n",
       "      <td>piginthepoke oh why are you feeling like that</td>\n",
       "      <td>[piginthepok, oh, feel, like]</td>\n",
       "    </tr>\n",
       "    <tr>\n",
       "      <th>93541</th>\n",
       "      <td>0</td>\n",
       "      <td>1770705699</td>\n",
       "      <td>Mon May 11 22:01:32 PDT 2009</td>\n",
       "      <td>NO_QUERY</td>\n",
       "      <td>stephiiheyy</td>\n",
       "      <td>gahh noo peyton needs to live this is horrible</td>\n",
       "      <td>[gahh, noo, peyton, need, live, horribl]</td>\n",
       "    </tr>\n",
       "    <tr>\n",
       "      <th>1097326</th>\n",
       "      <td>4</td>\n",
       "      <td>1970386589</td>\n",
       "      <td>Sat May 30 03:39:34 PDT 2009</td>\n",
       "      <td>NO_QUERY</td>\n",
       "      <td>wyndwitch</td>\n",
       "      <td>mrstessyman thank you glad you like it there ...</td>\n",
       "      <td>[mrstessyman, thank, glad, like, product, revi...</td>\n",
       "    </tr>\n",
       "    <tr>\n",
       "      <th>1380171</th>\n",
       "      <td>4</td>\n",
       "      <td>2052206835</td>\n",
       "      <td>Fri Jun 05 23:59:27 PDT 2009</td>\n",
       "      <td>NO_QUERY</td>\n",
       "      <td>salmafan</td>\n",
       "      <td>perezhilton zach makes me pee sitting down an...</td>\n",
       "      <td>[perezhilton, zach, make, pee, sit, im, grown,...</td>\n",
       "    </tr>\n",
       "    <tr>\n",
       "      <th>1233933</th>\n",
       "      <td>4</td>\n",
       "      <td>1992273171</td>\n",
       "      <td>Mon Jun 01 08:29:05 PDT 2009</td>\n",
       "      <td>NO_QUERY</td>\n",
       "      <td>spanishman</td>\n",
       "      <td>to sum up my day in one word kackered</td>\n",
       "      <td>[sum, day, one, word, kacker]</td>\n",
       "    </tr>\n",
       "    <tr>\n",
       "      <th>1495501</th>\n",
       "      <td>4</td>\n",
       "      <td>2069921255</td>\n",
       "      <td>Sun Jun 07 16:46:29 PDT 2009</td>\n",
       "      <td>NO_QUERY</td>\n",
       "      <td>DannyMacRant</td>\n",
       "      <td>k9wkj great minds think alike</td>\n",
       "      <td>[k9wkj, great, mind, think, alik]</td>\n",
       "    </tr>\n",
       "    <tr>\n",
       "      <th>558391</th>\n",
       "      <td>0</td>\n",
       "      <td>2204735567</td>\n",
       "      <td>Wed Jun 17 03:00:02 PDT 2009</td>\n",
       "      <td>NO_QUERY</td>\n",
       "      <td>Arabellakind</td>\n",
       "      <td>is poorly and in bed</td>\n",
       "      <td>[poorli, bed]</td>\n",
       "    </tr>\n",
       "    <tr>\n",
       "      <th>820010</th>\n",
       "      <td>4</td>\n",
       "      <td>1553585468</td>\n",
       "      <td>Sat Apr 18 14:39:59 PDT 2009</td>\n",
       "      <td>NO_QUERY</td>\n",
       "      <td>Reisei</td>\n",
       "      <td>lilpecan oh thats really great here we have a...</td>\n",
       "      <td>[lilpecan, oh, that, realli, great, small, bli...</td>\n",
       "    </tr>\n",
       "    <tr>\n",
       "      <th>986772</th>\n",
       "      <td>4</td>\n",
       "      <td>1834598659</td>\n",
       "      <td>Mon May 18 03:32:38 PDT 2009</td>\n",
       "      <td>NO_QUERY</td>\n",
       "      <td>andylackie</td>\n",
       "      <td>wizely lol calm down i got a 30day loan offer...</td>\n",
       "      <td>[wize, lol, calm, got, 30day, loan, offer, 1500]</td>\n",
       "    </tr>\n",
       "    <tr>\n",
       "      <th>1586084</th>\n",
       "      <td>4</td>\n",
       "      <td>2190762188</td>\n",
       "      <td>Tue Jun 16 03:39:22 PDT 2009</td>\n",
       "      <td>NO_QUERY</td>\n",
       "      <td>biaromerok</td>\n",
       "      <td>im feeling quite sleepy today wish i could sta...</td>\n",
       "      <td>[im, feel, quit, sleepi, today, wish, could, s...</td>\n",
       "    </tr>\n",
       "    <tr>\n",
       "      <th>209248</th>\n",
       "      <td>0</td>\n",
       "      <td>1973926253</td>\n",
       "      <td>Sat May 30 12:06:09 PDT 2009</td>\n",
       "      <td>NO_QUERY</td>\n",
       "      <td>risha_</td>\n",
       "      <td>nadalnews yeah mathieu totally choked in the ...</td>\n",
       "      <td>[nadalnew, yeah, mathieu, total, choke, 3rd, s...</td>\n",
       "    </tr>\n",
       "    <tr>\n",
       "      <th>320428</th>\n",
       "      <td>0</td>\n",
       "      <td>2003334341</td>\n",
       "      <td>Tue Jun 02 06:20:35 PDT 2009</td>\n",
       "      <td>NO_QUERY</td>\n",
       "      <td>stephrunscity</td>\n",
       "      <td>ugh mornings off to a rough start</td>\n",
       "      <td>[ugh, morn, rough, start]</td>\n",
       "    </tr>\n",
       "    <tr>\n",
       "      <th>427095</th>\n",
       "      <td>0</td>\n",
       "      <td>2063670257</td>\n",
       "      <td>Sun Jun 07 03:36:33 PDT 2009</td>\n",
       "      <td>NO_QUERY</td>\n",
       "      <td>cathymcewan</td>\n",
       "      <td>just bit my tongue</td>\n",
       "      <td>[bit, tongu]</td>\n",
       "    </tr>\n",
       "  </tbody>\n",
       "</table>\n",
       "</div>"
      ],
      "text/plain": [
       "         Target         Ids                          Date      Flag  \\\n",
       "541200        0  2200003196  Tue Jun 16 18:18:12 PDT 2009  NO_QUERY   \n",
       "750           0  1467998485  Mon Apr 06 23:11:14 PDT 2009  NO_QUERY   \n",
       "766711        0  2300048954  Tue Jun 23 13:40:11 PDT 2009  NO_QUERY   \n",
       "285055        0  1993474027  Mon Jun 01 10:26:07 PDT 2009  NO_QUERY   \n",
       "705995        0  2256550904  Sat Jun 20 12:56:51 PDT 2009  NO_QUERY   \n",
       "379611        0  2052380495  Sat Jun 06 00:32:16 PDT 2009  NO_QUERY   \n",
       "1189018       4  1983449090  Sun May 31 13:10:36 PDT 2009  NO_QUERY   \n",
       "667030        0  2245479748  Fri Jun 19 16:11:29 PDT 2009  NO_QUERY   \n",
       "93541         0  1770705699  Mon May 11 22:01:32 PDT 2009  NO_QUERY   \n",
       "1097326       4  1970386589  Sat May 30 03:39:34 PDT 2009  NO_QUERY   \n",
       "1380171       4  2052206835  Fri Jun 05 23:59:27 PDT 2009  NO_QUERY   \n",
       "1233933       4  1992273171  Mon Jun 01 08:29:05 PDT 2009  NO_QUERY   \n",
       "1495501       4  2069921255  Sun Jun 07 16:46:29 PDT 2009  NO_QUERY   \n",
       "558391        0  2204735567  Wed Jun 17 03:00:02 PDT 2009  NO_QUERY   \n",
       "820010        4  1553585468  Sat Apr 18 14:39:59 PDT 2009  NO_QUERY   \n",
       "986772        4  1834598659  Mon May 18 03:32:38 PDT 2009  NO_QUERY   \n",
       "1586084       4  2190762188  Tue Jun 16 03:39:22 PDT 2009  NO_QUERY   \n",
       "209248        0  1973926253  Sat May 30 12:06:09 PDT 2009  NO_QUERY   \n",
       "320428        0  2003334341  Tue Jun 02 06:20:35 PDT 2009  NO_QUERY   \n",
       "427095        0  2063670257  Sun Jun 07 03:36:33 PDT 2009  NO_QUERY   \n",
       "\n",
       "                    User                                               Text  \\\n",
       "541200   LaLaLindsey0609                 chrishasboobs ahhh i hope your ok    \n",
       "750          sexygrneyes   misstoriblack cool i have no tweet apps for m...   \n",
       "766711        sammydearr   tiannachaos i know just family drama its lame...   \n",
       "285055       Lamb_Leanne  school email wont open and i have geography st...   \n",
       "705995       yogicerdito                             upper airways problem    \n",
       "379611         Yengching             going to miss pastors sermon on faith    \n",
       "1189018         jessig06               on lunch dj should come eat with me    \n",
       "667030    felicityfuller     piginthepoke oh why are you feeling like that    \n",
       "93541        stephiiheyy    gahh noo peyton needs to live this is horrible    \n",
       "1097326        wyndwitch   mrstessyman thank you glad you like it there ...   \n",
       "1380171         salmafan   perezhilton zach makes me pee sitting down an...   \n",
       "1233933       spanishman             to sum up my day in one word kackered    \n",
       "1495501     DannyMacRant                     k9wkj great minds think alike    \n",
       "558391      Arabellakind                              is poorly and in bed    \n",
       "820010            Reisei   lilpecan oh thats really great here we have a...   \n",
       "986772        andylackie   wizely lol calm down i got a 30day loan offer...   \n",
       "1586084       biaromerok  im feeling quite sleepy today wish i could sta...   \n",
       "209248            risha_   nadalnews yeah mathieu totally choked in the ...   \n",
       "320428     stephrunscity                 ugh mornings off to a rough start    \n",
       "427095       cathymcewan                                just bit my tongue    \n",
       "\n",
       "                                                 tokenized  \n",
       "541200                      [chrishasboob, ahhh, hope, ok]  \n",
       "750             [misstoriblack, cool, tweet, app, razr, 2]  \n",
       "766711   [tiannachao, know, famili, drama, lame, hey, n...  \n",
       "285055   [school, email, wont, open, geographi, stuff, ...  \n",
       "705995                            [upper, airway, problem]  \n",
       "379611                   [go, miss, pastor, sermon, faith]  \n",
       "1189018                             [lunch, dj, come, eat]  \n",
       "667030                       [piginthepok, oh, feel, like]  \n",
       "93541             [gahh, noo, peyton, need, live, horribl]  \n",
       "1097326  [mrstessyman, thank, glad, like, product, revi...  \n",
       "1380171  [perezhilton, zach, make, pee, sit, im, grown,...  \n",
       "1233933                      [sum, day, one, word, kacker]  \n",
       "1495501                  [k9wkj, great, mind, think, alik]  \n",
       "558391                                       [poorli, bed]  \n",
       "820010   [lilpecan, oh, that, realli, great, small, bli...  \n",
       "986772    [wize, lol, calm, got, 30day, loan, offer, 1500]  \n",
       "1586084  [im, feel, quit, sleepi, today, wish, could, s...  \n",
       "209248   [nadalnew, yeah, mathieu, total, choke, 3rd, s...  \n",
       "320428                           [ugh, morn, rough, start]  \n",
       "427095                                        [bit, tongu]  "
      ]
     },
     "execution_count": 124,
     "metadata": {},
     "output_type": "execute_result"
    }
   ],
   "source": [
    "df.head(20)"
   ]
  },
  {
   "cell_type": "markdown",
   "metadata": {},
   "source": [
    "<b>Visualization</b>"
   ]
  },
  {
   "cell_type": "code",
   "execution_count": 148,
   "metadata": {},
   "outputs": [
    {
     "data": {
      "image/png": "[encoded data removed]",
      "text/plain": [
       "<Figure size 1000x500 with 1 Axes>"
      ]
     },
     "metadata": {},
     "output_type": "display_data"
    }
   ],
   "source": [
    "from matplotlib import pyplot as plt\n",
    "from collections import Counter\n",
    "\n",
    "#geting all the tokens in one list\n",
    "all_tokens = [word for tokens in df['tokenized'] for word in tokens]\n",
    "#counting number of each word, it is saved as a dictionary\n",
    "word_counts = Counter(all_tokens)\n",
    "#getting top 20 most common words\n",
    "common_words = word_counts.most_common(20)\n",
    "#separating words and counts\n",
    "words, counts = zip(*common_words)\n",
    "\n",
    "#plotting results\n",
    "plt.figure(figsize=(10, 5))\n",
    "plt.barh(words, counts, color= colors[0])\n",
    "plt.xlabel('Count')\n",
    "plt.ylabel('Words')\n",
    "plt.title('Top 20 most common words')\n",
    "plt.gca().invert_yaxis()\n",
    "plt.grid(axis='x')\n",
    "plt.show()\n"
   ]
  },
  {
   "cell_type": "code",
   "execution_count": 126,
   "metadata": {},
   "outputs": [
    {
     "data": {
      "image/png": "[encoded data removed]",
      "text/plain": [
       "<Figure size 700x400 with 1 Axes>"
      ]
     },
     "metadata": {},
     "output_type": "display_data"
    }
   ],
   "source": [
    "dict_targetValues={0:'Negative', 4:'Positive', 2:'Neutral'}\n",
    "labels = [dict_targetValues[key] for key in df['Target'].value_counts().index]\n",
    "\n",
    "plt.figure(figsize=(7, 4))\n",
    "plt.pie(df['Target'].value_counts(), labels=labels, autopct='%1.1f%%', colors=colors, startangle=90,  wedgeprops=dict(width=0.45), pctdistance=0.77)\n",
    "plt.title('Rate of positive, negative and neutral tweets')\n",
    "plt.show()"
   ]
  },
  {
   "cell_type": "markdown",
   "metadata": {},
   "source": [
    "<style>\n",
    "    h3 {\n",
    "        color: #0078d4\n",
    "    }\n",
    "</style>\n",
    "<h3>2. Build a BOW and train a KNN, Decision Tree, and SVM model</h3>"
   ]
  },
  {
   "cell_type": "markdown",
   "metadata": {},
   "source": [
    "<style>\n",
    "    h4 {\n",
    "        color: #d4007c\n",
    "    }\n",
    "</style>\n",
    "<h4>Bag of Words (BoW)- transforming text into numbers</h4>"
   ]
  },
  {
   "cell_type": "code",
   "execution_count": 127,
   "metadata": {},
   "outputs": [],
   "source": [
    "from sklearn.feature_extraction.text import CountVectorizer\n",
    "\n",
    "#initializing a vectorizer that will convert words into numbers\n",
    "vectorizer = CountVectorizer()\n",
    "\n",
    "#splitting data into input and output, input is tweet and output is if tweet is positive or negative; x will be vectorized only\n",
    "x= vectorizer.fit_transform(df['Text'])\n",
    "y= df['Target']"
   ]
  },
  {
   "cell_type": "markdown",
   "metadata": {},
   "source": [
    "<b>Splitting data into test/ train data</b>"
   ]
  },
  {
   "cell_type": "code",
   "execution_count": 128,
   "metadata": {},
   "outputs": [],
   "source": [
    "from sklearn.model_selection import train_test_split\n",
    "\n",
    "#splitting data into test 20% and train 80%\n",
    "x_train, x_test, y_train, y_test = train_test_split(x, y, test_size=0.2, random_state=42)"
   ]
  },
  {
   "cell_type": "markdown",
   "metadata": {},
   "source": [
    "<style>\n",
    "    h4 {\n",
    "        color: #d4007c\n",
    "    }\n",
    "</style>\n",
    "<h4>Building models</h4>"
   ]
  },
  {
   "cell_type": "markdown",
   "metadata": {},
   "source": [
    "<style>\n",
    "    h4 {\n",
    "        color:rgb(0, 212, 184)\n",
    "    }\n",
    "</style>\n",
    "<h4>Model 1: K-Nearest Neighbors (KNN)</h4>"
   ]
  },
  {
   "cell_type": "code",
   "execution_count": 143,
   "metadata": {},
   "outputs": [
    {
     "data": {
      "text/html": [
       "<style>#sk-container-id-5 {\n",
       "  /* Definition of color scheme common for light and dark mode */\n",
       "  --sklearn-color-text: black;\n",
       "  --sklearn-color-line: gray;\n",
       "  /* Definition of color scheme for unfitted estimators */\n",
       "  --sklearn-color-unfitted-level-0: #fff5e6;\n",
       "  --sklearn-color-unfitted-level-1: #f6e4d2;\n",
       "  --sklearn-color-unfitted-level-2: #ffe0b3;\n",
       "  --sklearn-color-unfitted-level-3: chocolate;\n",
       "  /* Definition of color scheme for fitted estimators */\n",
       "  --sklearn-color-fitted-level-0: #f0f8ff;\n",
       "  --sklearn-color-fitted-level-1: #d4ebff;\n",
       "  --sklearn-color-fitted-level-2: #b3dbfd;\n",
       "  --sklearn-color-fitted-level-3: cornflowerblue;\n",
       "\n",
       "  /* Specific color for light theme */\n",
       "  --sklearn-color-text-on-default-background: var(--sg-text-color, var(--theme-code-foreground, var(--jp-content-font-color1, black)));\n",
       "  --sklearn-color-background: var(--sg-background-color, var(--theme-background, var(--jp-layout-color0, white)));\n",
       "  --sklearn-color-border-box: var(--sg-text-color, var(--theme-code-foreground, var(--jp-content-font-color1, black)));\n",
       "  --sklearn-color-icon: #696969;\n",
       "\n",
       "  @media (prefers-color-scheme: dark) {\n",
       "    /* Redefinition of color scheme for dark theme */\n",
       "    --sklearn-color-text-on-default-background: var(--sg-text-color, var(--theme-code-foreground, var(--jp-content-font-color1, white)));\n",
       "    --sklearn-color-background: var(--sg-background-color, var(--theme-background, var(--jp-layout-color0, #111)));\n",
       "    --sklearn-color-border-box: var(--sg-text-color, var(--theme-code-foreground, var(--jp-content-font-color1, white)));\n",
       "    --sklearn-color-icon: #878787;\n",
       "  }\n",
       "}\n",
       "\n",
       "#sk-container-id-5 {\n",
       "  color: var(--sklearn-color-text);\n",
       "}\n",
       "\n",
       "#sk-container-id-5 pre {\n",
       "  padding: 0;\n",
       "}\n",
       "\n",
       "#sk-container-id-5 input.sk-hidden--visually {\n",
       "  border: 0;\n",
       "  clip: rect(1px 1px 1px 1px);\n",
       "  clip: rect(1px, 1px, 1px, 1px);\n",
       "  height: 1px;\n",
       "  margin: -1px;\n",
       "  overflow: hidden;\n",
       "  padding: 0;\n",
       "  position: absolute;\n",
       "  width: 1px;\n",
       "}\n",
       "\n",
       "#sk-container-id-5 div.sk-dashed-wrapped {\n",
       "  border: 1px dashed var(--sklearn-color-line);\n",
       "  margin: 0 0.4em 0.5em 0.4em;\n",
       "  box-sizing: border-box;\n",
       "  padding-bottom: 0.4em;\n",
       "  background-color: var(--sklearn-color-background);\n",
       "}\n",
       "\n",
       "#sk-container-id-5 div.sk-container {\n",
       "  /* jupyter's `normalize.less` sets `[hidden] { display: none; }`\n",
       "     but bootstrap.min.css set `[hidden] { display: none !important; }`\n",
       "     so we also need the `!important` here to be able to override the\n",
       "     default hidden behavior on the sphinx rendered scikit-learn.org.\n",
       "     See: https://github.com/scikit-learn/scikit-learn/issues/21755 */\n",
       "  display: inline-block !important;\n",
       "  position: relative;\n",
       "}\n",
       "\n",
       "#sk-container-id-5 div.sk-text-repr-fallback {\n",
       "  display: none;\n",
       "}\n",
       "\n",
       "div.sk-parallel-item,\n",
       "div.sk-serial,\n",
       "div.sk-item {\n",
       "  /* draw centered vertical line to link estimators */\n",
       "  background-image: linear-gradient(var(--sklearn-color-text-on-default-background), var(--sklearn-color-text-on-default-background));\n",
       "  background-size: 2px 100%;\n",
       "  background-repeat: no-repeat;\n",
       "  background-position: center center;\n",
       "}\n",
       "\n",
       "/* Parallel-specific style estimator block */\n",
       "\n",
       "#sk-container-id-5 div.sk-parallel-item::after {\n",
       "  content: \"\";\n",
       "  width: 100%;\n",
       "  border-bottom: 2px solid var(--sklearn-color-text-on-default-background);\n",
       "  flex-grow: 1;\n",
       "}\n",
       "\n",
       "#sk-container-id-5 div.sk-parallel {\n",
       "  display: flex;\n",
       "  align-items: stretch;\n",
       "  justify-content: center;\n",
       "  background-color: var(--sklearn-color-background);\n",
       "  position: relative;\n",
       "}\n",
       "\n",
       "#sk-container-id-5 div.sk-parallel-item {\n",
       "  display: flex;\n",
       "  flex-direction: column;\n",
       "}\n",
       "\n",
       "#sk-container-id-5 div.sk-parallel-item:first-child::after {\n",
       "  align-self: flex-end;\n",
       "  width: 50%;\n",
       "}\n",
       "\n",
       "#sk-container-id-5 div.sk-parallel-item:last-child::after {\n",
       "  align-self: flex-start;\n",
       "  width: 50%;\n",
       "}\n",
       "\n",
       "#sk-container-id-5 div.sk-parallel-item:only-child::after {\n",
       "  width: 0;\n",
       "}\n",
       "\n",
       "/* Serial-specific style estimator block */\n",
       "\n",
       "#sk-container-id-5 div.sk-serial {\n",
       "  display: flex;\n",
       "  flex-direction: column;\n",
       "  align-items: center;\n",
       "  background-color: var(--sklearn-color-background);\n",
       "  padding-right: 1em;\n",
       "  padding-left: 1em;\n",
       "}\n",
       "\n",
       "\n",
       "/* Toggleable style: style used for estimator/Pipeline/ColumnTransformer box that is\n",
       "clickable and can be expanded/collapsed.\n",
       "- Pipeline and ColumnTransformer use this feature and define the default style\n",
       "- Estimators will overwrite some part of the style using the `sk-estimator` class\n",
       "*/\n",
       "\n",
       "/* Pipeline and ColumnTransformer style (default) */\n",
       "\n",
       "#sk-container-id-5 div.sk-toggleable {\n",
       "  /* Default theme specific background. It is overwritten whether we have a\n",
       "  specific estimator or a Pipeline/ColumnTransformer */\n",
       "  background-color: var(--sklearn-color-background);\n",
       "}\n",
       "\n",
       "/* Toggleable label */\n",
       "#sk-container-id-5 label.sk-toggleable__label {\n",
       "  cursor: pointer;\n",
       "  display: block;\n",
       "  width: 100%;\n",
       "  margin-bottom: 0;\n",
       "  padding: 0.5em;\n",
       "  box-sizing: border-box;\n",
       "  text-align: center;\n",
       "}\n",
       "\n",
       "#sk-container-id-5 label.sk-toggleable__label-arrow:before {\n",
       "  /* Arrow on the left of the label */\n",
       "  content: \"▸\";\n",
       "  float: left;\n",
       "  margin-right: 0.25em;\n",
       "  color: var(--sklearn-color-icon);\n",
       "}\n",
       "\n",
       "#sk-container-id-5 label.sk-toggleable__label-arrow:hover:before {\n",
       "  color: var(--sklearn-color-text);\n",
       "}\n",
       "\n",
       "/* Toggleable content - dropdown */\n",
       "\n",
       "#sk-container-id-5 div.sk-toggleable__content {\n",
       "  max-height: 0;\n",
       "  max-width: 0;\n",
       "  overflow: hidden;\n",
       "  text-align: left;\n",
       "  /* unfitted */\n",
       "  background-color: var(--sklearn-color-unfitted-level-0);\n",
       "}\n",
       "\n",
       "#sk-container-id-5 div.sk-toggleable__content.fitted {\n",
       "  /* fitted */\n",
       "  background-color: var(--sklearn-color-fitted-level-0);\n",
       "}\n",
       "\n",
       "#sk-container-id-5 div.sk-toggleable__content pre {\n",
       "  margin: 0.2em;\n",
       "  border-radius: 0.25em;\n",
       "  color: var(--sklearn-color-text);\n",
       "  /* unfitted */\n",
       "  background-color: var(--sklearn-color-unfitted-level-0);\n",
       "}\n",
       "\n",
       "#sk-container-id-5 div.sk-toggleable__content.fitted pre {\n",
       "  /* unfitted */\n",
       "  background-color: var(--sklearn-color-fitted-level-0);\n",
       "}\n",
       "\n",
       "#sk-container-id-5 input.sk-toggleable__control:checked~div.sk-toggleable__content {\n",
       "  /* Expand drop-down */\n",
       "  max-height: 200px;\n",
       "  max-width: 100%;\n",
       "  overflow: auto;\n",
       "}\n",
       "\n",
       "#sk-container-id-5 input.sk-toggleable__control:checked~label.sk-toggleable__label-arrow:before {\n",
       "  content: \"▾\";\n",
       "}\n",
       "\n",
       "/* Pipeline/ColumnTransformer-specific style */\n",
       "\n",
       "#sk-container-id-5 div.sk-label input.sk-toggleable__control:checked~label.sk-toggleable__label {\n",
       "  color: var(--sklearn-color-text);\n",
       "  background-color: var(--sklearn-color-unfitted-level-2);\n",
       "}\n",
       "\n",
       "#sk-container-id-5 div.sk-label.fitted input.sk-toggleable__control:checked~label.sk-toggleable__label {\n",
       "  background-color: var(--sklearn-color-fitted-level-2);\n",
       "}\n",
       "\n",
       "/* Estimator-specific style */\n",
       "\n",
       "/* Colorize estimator box */\n",
       "#sk-container-id-5 div.sk-estimator input.sk-toggleable__control:checked~label.sk-toggleable__label {\n",
       "  /* unfitted */\n",
       "  background-color: var(--sklearn-color-unfitted-level-2);\n",
       "}\n",
       "\n",
       "#sk-container-id-5 div.sk-estimator.fitted input.sk-toggleable__control:checked~label.sk-toggleable__label {\n",
       "  /* fitted */\n",
       "  background-color: var(--sklearn-color-fitted-level-2);\n",
       "}\n",
       "\n",
       "#sk-container-id-5 div.sk-label label.sk-toggleable__label,\n",
       "#sk-container-id-5 div.sk-label label {\n",
       "  /* The background is the default theme color */\n",
       "  color: var(--sklearn-color-text-on-default-background);\n",
       "}\n",
       "\n",
       "/* On hover, darken the color of the background */\n",
       "#sk-container-id-5 div.sk-label:hover label.sk-toggleable__label {\n",
       "  color: var(--sklearn-color-text);\n",
       "  background-color: var(--sklearn-color-unfitted-level-2);\n",
       "}\n",
       "\n",
       "/* Label box, darken color on hover, fitted */\n",
       "#sk-container-id-5 div.sk-label.fitted:hover label.sk-toggleable__label.fitted {\n",
       "  color: var(--sklearn-color-text);\n",
       "  background-color: var(--sklearn-color-fitted-level-2);\n",
       "}\n",
       "\n",
       "/* Estimator label */\n",
       "\n",
       "#sk-container-id-5 div.sk-label label {\n",
       "  font-family: monospace;\n",
       "  font-weight: bold;\n",
       "  display: inline-block;\n",
       "  line-height: 1.2em;\n",
       "}\n",
       "\n",
       "#sk-container-id-5 div.sk-label-container {\n",
       "  text-align: center;\n",
       "}\n",
       "\n",
       "/* Estimator-specific */\n",
       "#sk-container-id-5 div.sk-estimator {\n",
       "  font-family: monospace;\n",
       "  border: 1px dotted var(--sklearn-color-border-box);\n",
       "  border-radius: 0.25em;\n",
       "  box-sizing: border-box;\n",
       "  margin-bottom: 0.5em;\n",
       "  /* unfitted */\n",
       "  background-color: var(--sklearn-color-unfitted-level-0);\n",
       "}\n",
       "\n",
       "#sk-container-id-5 div.sk-estimator.fitted {\n",
       "  /* fitted */\n",
       "  background-color: var(--sklearn-color-fitted-level-0);\n",
       "}\n",
       "\n",
       "/* on hover */\n",
       "#sk-container-id-5 div.sk-estimator:hover {\n",
       "  /* unfitted */\n",
       "  background-color: var(--sklearn-color-unfitted-level-2);\n",
       "}\n",
       "\n",
       "#sk-container-id-5 div.sk-estimator.fitted:hover {\n",
       "  /* fitted */\n",
       "  background-color: var(--sklearn-color-fitted-level-2);\n",
       "}\n",
       "\n",
       "/* Specification for estimator info (e.g. \"i\" and \"?\") */\n",
       "\n",
       "/* Common style for \"i\" and \"?\" */\n",
       "\n",
       ".sk-estimator-doc-link,\n",
       "a:link.sk-estimator-doc-link,\n",
       "a:visited.sk-estimator-doc-link {\n",
       "  float: right;\n",
       "  font-size: smaller;\n",
       "  line-height: 1em;\n",
       "  font-family: monospace;\n",
       "  background-color: var(--sklearn-color-background);\n",
       "  border-radius: 1em;\n",
       "  height: 1em;\n",
       "  width: 1em;\n",
       "  text-decoration: none !important;\n",
       "  margin-left: 1ex;\n",
       "  /* unfitted */\n",
       "  border: var(--sklearn-color-unfitted-level-1) 1pt solid;\n",
       "  color: var(--sklearn-color-unfitted-level-1);\n",
       "}\n",
       "\n",
       ".sk-estimator-doc-link.fitted,\n",
       "a:link.sk-estimator-doc-link.fitted,\n",
       "a:visited.sk-estimator-doc-link.fitted {\n",
       "  /* fitted */\n",
       "  border: var(--sklearn-color-fitted-level-1) 1pt solid;\n",
       "  color: var(--sklearn-color-fitted-level-1);\n",
       "}\n",
       "\n",
       "/* On hover */\n",
       "div.sk-estimator:hover .sk-estimator-doc-link:hover,\n",
       ".sk-estimator-doc-link:hover,\n",
       "div.sk-label-container:hover .sk-estimator-doc-link:hover,\n",
       ".sk-estimator-doc-link:hover {\n",
       "  /* unfitted */\n",
       "  background-color: var(--sklearn-color-unfitted-level-3);\n",
       "  color: var(--sklearn-color-background);\n",
       "  text-decoration: none;\n",
       "}\n",
       "\n",
       "div.sk-estimator.fitted:hover .sk-estimator-doc-link.fitted:hover,\n",
       ".sk-estimator-doc-link.fitted:hover,\n",
       "div.sk-label-container:hover .sk-estimator-doc-link.fitted:hover,\n",
       ".sk-estimator-doc-link.fitted:hover {\n",
       "  /* fitted */\n",
       "  background-color: var(--sklearn-color-fitted-level-3);\n",
       "  color: var(--sklearn-color-background);\n",
       "  text-decoration: none;\n",
       "}\n",
       "\n",
       "/* Span, style for the box shown on hovering the info icon */\n",
       ".sk-estimator-doc-link span {\n",
       "  display: none;\n",
       "  z-index: 9999;\n",
       "  position: relative;\n",
       "  font-weight: normal;\n",
       "  right: .2ex;\n",
       "  padding: .5ex;\n",
       "  margin: .5ex;\n",
       "  width: min-content;\n",
       "  min-width: 20ex;\n",
       "  max-width: 50ex;\n",
       "  color: var(--sklearn-color-text);\n",
       "  box-shadow: 2pt 2pt 4pt #999;\n",
       "  /* unfitted */\n",
       "  background: var(--sklearn-color-unfitted-level-0);\n",
       "  border: .5pt solid var(--sklearn-color-unfitted-level-3);\n",
       "}\n",
       "\n",
       ".sk-estimator-doc-link.fitted span {\n",
       "  /* fitted */\n",
       "  background: var(--sklearn-color-fitted-level-0);\n",
       "  border: var(--sklearn-color-fitted-level-3);\n",
       "}\n",
       "\n",
       ".sk-estimator-doc-link:hover span {\n",
       "  display: block;\n",
       "}\n",
       "\n",
       "/* \"?\"-specific style due to the `<a>` HTML tag */\n",
       "\n",
       "#sk-container-id-5 a.estimator_doc_link {\n",
       "  float: right;\n",
       "  font-size: 1rem;\n",
       "  line-height: 1em;\n",
       "  font-family: monospace;\n",
       "  background-color: var(--sklearn-color-background);\n",
       "  border-radius: 1rem;\n",
       "  height: 1rem;\n",
       "  width: 1rem;\n",
       "  text-decoration: none;\n",
       "  /* unfitted */\n",
       "  color: var(--sklearn-color-unfitted-level-1);\n",
       "  border: var(--sklearn-color-unfitted-level-1) 1pt solid;\n",
       "}\n",
       "\n",
       "#sk-container-id-5 a.estimator_doc_link.fitted {\n",
       "  /* fitted */\n",
       "  border: var(--sklearn-color-fitted-level-1) 1pt solid;\n",
       "  color: var(--sklearn-color-fitted-level-1);\n",
       "}\n",
       "\n",
       "/* On hover */\n",
       "#sk-container-id-5 a.estimator_doc_link:hover {\n",
       "  /* unfitted */\n",
       "  background-color: var(--sklearn-color-unfitted-level-3);\n",
       "  color: var(--sklearn-color-background);\n",
       "  text-decoration: none;\n",
       "}\n",
       "\n",
       "#sk-container-id-5 a.estimator_doc_link.fitted:hover {\n",
       "  /* fitted */\n",
       "  background-color: var(--sklearn-color-fitted-level-3);\n",
       "}\n",
       "</style><div id=\"sk-container-id-5\" class=\"sk-top-container\"><div class=\"sk-text-repr-fallback\"><pre>KNeighborsClassifier()</pre><b>In a Jupyter environment, please rerun this cell to show the HTML representation or trust the notebook. <br />On GitHub, the HTML representation is unable to render, please try loading this page with nbviewer.org.</b></div><div class=\"sk-container\" hidden><div class=\"sk-item\"><div class=\"sk-estimator fitted sk-toggleable\"><input class=\"sk-toggleable__control sk-hidden--visually\" id=\"sk-estimator-id-5\" type=\"checkbox\" checked><label for=\"sk-estimator-id-5\" class=\"sk-toggleable__label fitted sk-toggleable__label-arrow fitted\">&nbsp;&nbsp;KNeighborsClassifier<a class=\"sk-estimator-doc-link fitted\" rel=\"noreferrer\" target=\"_blank\" href=\"https://scikit-learn.org/1.5/modules/generated/sklearn.neighbors.KNeighborsClassifier.html\">?<span>Documentation for KNeighborsClassifier</span></a><span class=\"sk-estimator-doc-link fitted\">i<span>Fitted</span></span></label><div class=\"sk-toggleable__content fitted\"><pre>KNeighborsClassifier()</pre></div> </div></div></div></div>"
      ],
      "text/plain": [
       "KNeighborsClassifier()"
      ]
     },
     "execution_count": 143,
     "metadata": {},
     "output_type": "execute_result"
    }
   ],
   "source": [
    "#using greed search to get the best value for n_neighbors\n",
    "from sklearn.model_selection import GridSearchCV\n",
    "from sklearn.neighbors import KNeighborsClassifier\n",
    "\n",
    "#initializing KNeighborsClassifier\n",
    "knn = KNeighborsClassifier()\n",
    "\n",
    "knn = KNeighborsClassifier(n_neighbors=5)\n",
    "knn.fit(x_train, y_train)"
   ]
  },
  {
   "cell_type": "markdown",
   "metadata": {},
   "source": [
    "Making predictions for test data"
   ]
  },
  {
   "cell_type": "code",
   "execution_count": 144,
   "metadata": {},
   "outputs": [],
   "source": [
    "#making predictions\n",
    "y_pred_knn = knn.predict(x_test)"
   ]
  },
  {
   "cell_type": "markdown",
   "metadata": {},
   "source": [
    "Accuracy"
   ]
  },
  {
   "cell_type": "code",
   "execution_count": 145,
   "metadata": {},
   "outputs": [
    {
     "name": "stdout",
     "output_type": "stream",
     "text": [
      "Accuracy KNN: 65.67%\n"
     ]
    }
   ],
   "source": [
    "from sklearn.metrics import accuracy_score\n",
    "\n",
    "accuracy_knn = accuracy_score(y_test, y_pred_knn)\n",
    "accuracy_knn_percentage = accuracy_knn * 100\n",
    "print(f\"Accuracy KNN: {accuracy_knn_percentage:.2f}%\")\n"
   ]
  },
  {
   "cell_type": "markdown",
   "metadata": {},
   "source": [
    "Confusion matrix"
   ]
  },
  {
   "cell_type": "code",
   "execution_count": 146,
   "metadata": {},
   "outputs": [
    {
     "name": "stdout",
     "output_type": "stream",
     "text": [
      "Confusion matrix:\n",
      "[[3250 1727]\n",
      " [1706 3317]]\n"
     ]
    }
   ],
   "source": [
    "#showing confusion matrix\n",
    "from sklearn.metrics import confusion_matrix\n",
    "\n",
    "conf_matrix_knn = confusion_matrix(y_test, y_pred_knn)\n",
    "print(\"Confusion matrix:\")\n",
    "print(conf_matrix_knn)"
   ]
  },
  {
   "cell_type": "markdown",
   "metadata": {},
   "source": [
    "Classification report"
   ]
  },
  {
   "cell_type": "code",
   "execution_count": 147,
   "metadata": {},
   "outputs": [
    {
     "name": "stdout",
     "output_type": "stream",
     "text": [
      "              precision    recall  f1-score   support\n",
      "\n",
      "           0       0.66      0.65      0.65      4977\n",
      "           4       0.66      0.66      0.66      5023\n",
      "\n",
      "    accuracy                           0.66     10000\n",
      "   macro avg       0.66      0.66      0.66     10000\n",
      "weighted avg       0.66      0.66      0.66     10000\n",
      "\n"
     ]
    }
   ],
   "source": [
    "from sklearn.metrics import classification_report\n",
    "class_report_knn = classification_report(y_test, y_pred_knn)\n",
    "print(class_report_knn)"
   ]
  },
  {
   "cell_type": "markdown",
   "metadata": {},
   "source": [
    "<style>\n",
    "    h4 {\n",
    "        color:rgb(0, 212, 184)\n",
    "    }\n",
    "</style>\n",
    "<h4>Method 2: Decision tree</h4>"
   ]
  },
  {
   "cell_type": "code",
   "execution_count": 149,
   "metadata": {},
   "outputs": [],
   "source": [
    "from sklearn.tree import DecisionTreeClassifier\n",
    "\n",
    "#initilizing the model\n",
    "tree = DecisionTreeClassifier()\n",
    "tree.fit(x_train, y_train)\n",
    "\n",
    "#making predictions\n",
    "y_pred_dt = tree.predict(x_test)"
   ]
  },
  {
   "cell_type": "markdown",
   "metadata": {},
   "source": [
    "Accuracy"
   ]
  },
  {
   "cell_type": "code",
   "execution_count": 150,
   "metadata": {},
   "outputs": [
    {
     "name": "stdout",
     "output_type": "stream",
     "text": [
      "Accuracy dt.: 69.27%\n"
     ]
    }
   ],
   "source": [
    "#accuracy\n",
    "accuracy_dt = accuracy_score(y_test, y_pred_dt)\n",
    "accuracy_dt_percentage = accuracy_dt * 100\n",
    "print(f\"Accuracy dt.: {accuracy_dt_percentage:.2f}%\")"
   ]
  },
  {
   "cell_type": "markdown",
   "metadata": {},
   "source": [
    "Confusion matrix"
   ]
  },
  {
   "cell_type": "code",
   "execution_count": 151,
   "metadata": {},
   "outputs": [
    {
     "name": "stdout",
     "output_type": "stream",
     "text": [
      "Confusion matrix:\n",
      "[[3446 1531]\n",
      " [1542 3481]]\n"
     ]
    }
   ],
   "source": [
    "#showing confusion matrix\n",
    "conf_matrix_dt = confusion_matrix(y_test, y_pred_dt)\n",
    "print(\"Confusion matrix:\")\n",
    "print(conf_matrix_dt)"
   ]
  },
  {
   "cell_type": "markdown",
   "metadata": {},
   "source": [
    "Classification report"
   ]
  },
  {
   "cell_type": "code",
   "execution_count": 152,
   "metadata": {},
   "outputs": [
    {
     "name": "stdout",
     "output_type": "stream",
     "text": [
      "              precision    recall  f1-score   support\n",
      "\n",
      "           0       0.69      0.69      0.69      4977\n",
      "           4       0.69      0.69      0.69      5023\n",
      "\n",
      "    accuracy                           0.69     10000\n",
      "   macro avg       0.69      0.69      0.69     10000\n",
      "weighted avg       0.69      0.69      0.69     10000\n",
      "\n"
     ]
    }
   ],
   "source": [
    "class_report_dt = classification_report(y_test, y_pred_dt)\n",
    "print(class_report_dt)"
   ]
  },
  {
   "cell_type": "markdown",
   "metadata": {},
   "source": [
    "<style>\n",
    "    h4 {\n",
    "        color:rgb(0, 212, 184)\n",
    "    }\n",
    "</style>\n",
    "<h4>Model 3: Support Vector Machine- SVM</h4>"
   ]
  },
  {
   "cell_type": "code",
   "execution_count": 153,
   "metadata": {},
   "outputs": [],
   "source": [
    "from sklearn.svm import SVC\n",
    "\n",
    "#initilizing the mddeel\n",
    "svc = SVC()\n",
    "svc.fit(x_train, y_train)\n",
    "\n",
    "#making predictions\n",
    "y_pred_svm = svc.predict(x_test)\n"
   ]
  },
  {
   "cell_type": "markdown",
   "metadata": {},
   "source": [
    "Accuracy"
   ]
  },
  {
   "cell_type": "code",
   "execution_count": 154,
   "metadata": {},
   "outputs": [
    {
     "name": "stdout",
     "output_type": "stream",
     "text": [
      "Accuracy svc: 77.51%\n"
     ]
    }
   ],
   "source": [
    "accuracy_svm = accuracy_score(y_test, y_pred_svm)\n",
    "accuracy_svm_percentage = accuracy_svm * 100\n",
    "print(f\"Accuracy svc: {accuracy_svm_percentage:.2f}%\")"
   ]
  },
  {
   "cell_type": "markdown",
   "metadata": {},
   "source": [
    "Confusion matrix"
   ]
  },
  {
   "cell_type": "code",
   "execution_count": 155,
   "metadata": {},
   "outputs": [
    {
     "name": "stdout",
     "output_type": "stream",
     "text": [
      "Confusion matrix:\n",
      "[[3803 1174]\n",
      " [1075 3948]]\n"
     ]
    }
   ],
   "source": [
    "#showing confusion matrix\n",
    "conf_matrix_svm = confusion_matrix(y_test, y_pred_svm)\n",
    "print(\"Confusion matrix:\")\n",
    "print(conf_matrix_svm)"
   ]
  },
  {
   "cell_type": "markdown",
   "metadata": {},
   "source": [
    "Classification report"
   ]
  },
  {
   "cell_type": "code",
   "execution_count": 156,
   "metadata": {},
   "outputs": [
    {
     "name": "stdout",
     "output_type": "stream",
     "text": [
      "              precision    recall  f1-score   support\n",
      "\n",
      "           0       0.78      0.76      0.77      4977\n",
      "           4       0.77      0.79      0.78      5023\n",
      "\n",
      "    accuracy                           0.78     10000\n",
      "   macro avg       0.78      0.78      0.78     10000\n",
      "weighted avg       0.78      0.78      0.78     10000\n",
      "\n"
     ]
    }
   ],
   "source": [
    "class_report_svm = classification_report(y_test, y_pred_svm)\n",
    "print(class_report_svm)"
   ]
  },
  {
   "cell_type": "markdown",
   "metadata": {},
   "source": [
    "<style>\n",
    "    h3 {\n",
    "        color: #0078d4\n",
    "    }\n",
    "</style>\n",
    "<h3>3. Evaluate the above models (confusion matrix, accuracy, classification report, etc.)</h3>"
   ]
  },
  {
   "cell_type": "code",
   "execution_count": 159,
   "metadata": {},
   "outputs": [
    {
     "data": {
      "text/html": [
       "<div>\n",
       "<style scoped>\n",
       "    .dataframe tbody tr th:only-of-type {\n",
       "        vertical-align: middle;\n",
       "    }\n",
       "\n",
       "    .dataframe tbody tr th {\n",
       "        vertical-align: top;\n",
       "    }\n",
       "\n",
       "    .dataframe thead th {\n",
       "        text-align: right;\n",
       "    }\n",
       "</style>\n",
       "<table border=\"1\" class=\"dataframe\">\n",
       "  <thead>\n",
       "    <tr style=\"text-align: right;\">\n",
       "      <th></th>\n",
       "      <th>Model</th>\n",
       "      <th>Accuracy</th>\n",
       "      <th>Accuracy in %</th>\n",
       "    </tr>\n",
       "  </thead>\n",
       "  <tbody>\n",
       "    <tr>\n",
       "      <th>0</th>\n",
       "      <td>KNN</td>\n",
       "      <td>0.6567</td>\n",
       "      <td>65.67</td>\n",
       "    </tr>\n",
       "    <tr>\n",
       "      <th>1</th>\n",
       "      <td>Decision Tree</td>\n",
       "      <td>0.6927</td>\n",
       "      <td>69.27</td>\n",
       "    </tr>\n",
       "    <tr>\n",
       "      <th>2</th>\n",
       "      <td>SVM</td>\n",
       "      <td>0.7751</td>\n",
       "      <td>77.51</td>\n",
       "    </tr>\n",
       "  </tbody>\n",
       "</table>\n",
       "</div>"
      ],
      "text/plain": [
       "           Model  Accuracy  Accuracy in %\n",
       "0            KNN    0.6567          65.67\n",
       "1  Decision Tree    0.6927          69.27\n",
       "2            SVM    0.7751          77.51"
      ]
     },
     "execution_count": 159,
     "metadata": {},
     "output_type": "execute_result"
    }
   ],
   "source": [
    "evaluation_metrics = pd.DataFrame({\n",
    "    'Model': ['KNN', 'Decision Tree', 'SVM'],\n",
    "    'Accuracy': [accuracy_knn, accuracy_dt, accuracy_svm],\n",
    "    'Accuracy in %': [accuracy_knn_percentage, accuracy_dt_percentage, accuracy_svm_percentage] \n",
    "})\n",
    "\n",
    "evaluation_metrics.head()"
   ]
  },
  {
   "cell_type": "code",
   "execution_count": 163,
   "metadata": {},
   "outputs": [
    {
     "data": {
      "image/png": "[encoded data removed]",
      "text/plain": [
       "<Figure size 900x800 with 6 Axes>"
      ]
     },
     "metadata": {},
     "output_type": "display_data"
    }
   ],
   "source": [
    "from matplotlib.colors import LinearSegmentedColormap\n",
    "import seaborn as sns\n",
    " #colors that i will be using\n",
    "my_colors = ['#FF6F61', '#FFFFFF', '#19647E']\n",
    "custom_cmap = LinearSegmentedColormap.from_list(\"custom_cmap\", my_colors)\n",
    "\n",
    "#adding confusion matrices to the array and their names\n",
    "conf_matrices = [conf_matrix_knn, conf_matrix_dt, conf_matrix_svm]\n",
    "titles = ['KNN', 'Decision tree', 'SVM']\n",
    "\n",
    "fig, axes = plt.subplots(2, 2, figsize=(9, 8))\n",
    "\n",
    "#looping and showing data\n",
    "for i, ax in enumerate(axes.ravel()):\n",
    "    #in order to avoid error as there are only 3 models but 4 places\n",
    "    if i < len(conf_matrices):\n",
    "        sns.heatmap(conf_matrices[i], annot=True, fmt='d', cmap=custom_cmap, ax=ax)\n",
    "        ax.set_title(titles[i])\n",
    "        ax.set_xlabel(\"Predicted\")\n",
    "        ax.set_ylabel(\"Actual\")\n",
    "    else:\n",
    "        fig.delaxes(ax)  #removing empty plot\n",
    "\n",
    "plt.suptitle(\"Confusion matrices\", fontsize=15, y=1.0)\n",
    "plt.subplots_adjust(hspace=0.3, wspace=0.6) #adjusting space between plots\n",
    "plt.tight_layout()\n",
    "plt.show()"
   ]
  },
  {
   "cell_type": "markdown",
   "metadata": {},
   "source": [
    "<b>OBS. Detailed classification report if located under each clustering methods!</b>"
   ]
  }
 ],
 "metadata": {
  "kernelspec": {
   "display_name": "Python 3",
   "language": "python",
   "name": "python3"
  },
  "language_info": {
   "codemirror_mode": {
    "name": "ipython",
    "version": 3
   },
   "file_extension": ".py",
   "mimetype": "text/x-python",
   "name": "python",
   "nbconvert_exporter": "python",
   "pygments_lexer": "ipython3",
   "version": "3.12.5"
  }
 },
 "nbformat": 4,
 "nbformat_minor": 2
}
